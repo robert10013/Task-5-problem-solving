{
 "cells": [
  {
   "cell_type": "code",
   "execution_count": 59,
   "metadata": {},
   "outputs": [
    {
     "name": "stdout",
     "output_type": "stream",
     "text": [
      "1 u\n",
      "2 i\n",
      "3 e\n",
      "4 e\n",
      "5 e\n",
      "6 o\n",
      "7 i\n",
      "8 a\n",
      "9 e\n",
      "10 i\n",
      "11 i\n",
      "12 e\n"
     ]
    }
   ],
   "source": [
    "count=0\n",
    "a=\"Guvi Geeks Network Privated Limited\"\n",
    "for i in a:\n",
    "    if(i=='a'):\n",
    "       count=count+1\n",
    "       print(count,\"a\")\n",
    "    elif(i==\"e\"):\n",
    "       count=count+1\n",
    "       print(count,\"e\")\n",
    "    elif(i==\"i\"):\n",
    "       count=count+1\n",
    "       print(count,\"i\")\n",
    "    elif(i==\"o\"):\n",
    "        count=count+1\n",
    "        print(count,\"o\")\n",
    "    elif(i==\"u\"):\n",
    "        count=count+1 \n",
    "        print(count,\"u\")\n",
    "\n",
    "\n"
   ]
  },
  {
   "cell_type": "code",
   "execution_count": 35,
   "metadata": {},
   "outputs": [
    {
     "name": "stdout",
     "output_type": "stream",
     "text": [
      "1  \n",
      "1 2  \n",
      "1 2 3  \n",
      "1 2 3 4  \n",
      "1 2 3 4 5  \n",
      "1 2 3 4 5 6  \n"
     ]
    }
   ],
   "source": [
    " outer=1\n",
    " while outer <=6:\n",
    "     inner = 1\n",
    "     while inner <= outer:\n",
    "         print(inner, end=\" \")\n",
    "         inner = inner + 1\n",
    "     print(\" \")\n",
    "     outer = outer + 1"
   ]
  },
  {
   "cell_type": "code",
   "execution_count": 16,
   "metadata": {},
   "outputs": [
    {
     "data": {
      "text/plain": [
       "'5167234'"
      ]
     },
     "execution_count": 16,
     "metadata": {},
     "output_type": "execute_result"
    }
   ],
   "source": [
    "In [10]: ''.join(set('123456734'))\n"
   ]
  },
  {
   "cell_type": "code",
   "execution_count": 17,
   "metadata": {},
   "outputs": [
    {
     "data": {
      "text/plain": [
       "'5167234'"
      ]
     },
     "execution_count": 17,
     "metadata": {},
     "output_type": "execute_result"
    }
   ],
   "source": [
    "In [1]: ''.join(set('123456734'))"
   ]
  },
  {
   "cell_type": "code",
   "execution_count": 29,
   "metadata": {},
   "outputs": [
    {
     "name": "stdout",
     "output_type": "stream",
     "text": [
      "yes\n"
     ]
    }
   ],
   "source": [
    "# function which return reverse of a string\n",
    "def isPalindrome(s):\n",
    "    return s == s[::-1]\n",
    " \n",
    " \n",
    " # true\n",
    "s = \"Tamil\"\n",
    "ans = isPalindrome(s)\n",
    " \n",
    "if ans:\n",
    "    print(\"Yes\")\n",
    "else:\n",
    "    print(\"yes\")"
   ]
  },
  {
   "cell_type": "code",
   "execution_count": 28,
   "metadata": {},
   "outputs": [
    {
     "name": "stdout",
     "output_type": "stream",
     "text": [
      "NO\n"
     ]
    }
   ],
   "source": [
    "# function which return reverse of a string\n",
    "def ispalindrome(R):\n",
    "    return R==R[::-2]\n",
    "    # false \n",
    "s = \"Tamil\"\n",
    "ans = isPalindrome(s)\n",
    " \n",
    "if ans:\n",
    "    print(\"YES\")\n",
    "else:\n",
    "    print(\"NO\")            \n",
    "                \n",
    "        \n",
    "                \n",
    "                "
   ]
  },
  {
   "cell_type": "code",
   "execution_count": 41,
   "metadata": {},
   "outputs": [
    {
     "name": "stdout",
     "output_type": "stream",
     "text": [
      "RobertRajkumaR\n",
      "Most frequent character:  R\n"
     ]
    }
   ],
   "source": [
    "# most frequent character\n",
    "string= \"RobertRajkumaR\"\n",
    "print(string)\n",
    "\n",
    "char_freq={}\n",
    "\n",
    "for i in string:\n",
    "    if i in char_freq:\n",
    "        char_freq[i]=char_freq[i]+1\n",
    "    else:\n",
    "        char_freq[i] = 1\n",
    "result= max(char_freq, key = char_freq.get)\n",
    "\n",
    "print(\"Most frequent character: \",result)"
   ]
  },
  {
   "cell_type": "code",
   "execution_count": 53,
   "metadata": {},
   "outputs": [
    {
     "name": "stdout",
     "output_type": "stream",
     "text": [
      "7\n"
     ]
    }
   ],
   "source": [
    "text = 'Python is fun'\n",
    "\n",
    "# find the index of is\n",
    "result = text.index('is')\n",
    "print(result)"
   ]
  }
 ],
 "metadata": {
  "kernelspec": {
   "display_name": "Python 3",
   "language": "python",
   "name": "python3"
  },
  "language_info": {
   "codemirror_mode": {
    "name": "ipython",
    "version": 3
   },
   "file_extension": ".py",
   "mimetype": "text/x-python",
   "name": "python",
   "nbconvert_exporter": "python",
   "pygments_lexer": "ipython3",
   "version": "3.12.2"
  }
 },
 "nbformat": 4,
 "nbformat_minor": 2
}
